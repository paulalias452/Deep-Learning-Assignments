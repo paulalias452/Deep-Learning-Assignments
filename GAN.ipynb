{
  "nbformat": 4,
  "nbformat_minor": 0,
  "metadata": {
    "colab": {
      "provenance": [],
      "include_colab_link": true
    },
    "kernelspec": {
      "name": "python3",
      "display_name": "Python 3"
    },
    "language_info": {
      "name": "python"
    }
  },
  "cells": [
    {
      "cell_type": "markdown",
      "metadata": {
        "id": "view-in-github",
        "colab_type": "text"
      },
      "source": [
        "<a href=\"https://colab.research.google.com/github/paulalias452/Deep-Learning-Assignments/blob/main/GAN.ipynb\" target=\"_parent\"><img src=\"https://colab.research.google.com/assets/colab-badge.svg\" alt=\"Open In Colab\"/></a>"
      ]
    },
    {
      "cell_type": "markdown",
      "source": [
        "# GAN Pracs\n",
        "\n",
        "6/8/22"
      ],
      "metadata": {
        "id": "YaJlZ8cv1Xya"
      }
    },
    {
      "cell_type": "code",
      "execution_count": null,
      "metadata": {
        "id": "1IbZ2_Rr0Izm"
      },
      "outputs": [],
      "source": [
        "import numpy as np\n",
        "import pandas as pd\n",
        "import keras\n",
        "from keras.layers import Conv2D, Conv2DTranspose, Dropout, Input, Flatten, LeakyReLU, Dense, Reshape\n",
        "from keras.models import Model, Sequential\n",
        "from keras.datasets import mnist\n",
        "from keras.layers.advanced_activations import LeakyReLU"
      ]
    },
    {
      "cell_type": "code",
      "source": [
        "from keras.utils.vis_utils import plot_model\n",
        "from numpy import vstack, ones\n",
        "from numpy.random.mtrand import rand, randint, randn\n",
        "(trainX, trainy),(testX,testy) =mnist.load_data()\n",
        "\n",
        "print('Train', trainX.shape,trainy.shape)\n",
        "print('Test', testX.shape,testy.shape)"
      ],
      "metadata": {
        "colab": {
          "base_uri": "https://localhost:8080/"
        },
        "id": "SOdLaQms0vDp",
        "outputId": "11a342e7-9c47-4ec8-ae07-b5792ff74070"
      },
      "execution_count": null,
      "outputs": [
        {
          "output_type": "stream",
          "name": "stdout",
          "text": [
            "Train (60000, 28, 28) (60000,)\n",
            "Test (10000, 28, 28) (10000,)\n"
          ]
        }
      ]
    },
    {
      "cell_type": "code",
      "source": [
        "def define_discriminator(in_shape=(28,28,1)):\n",
        "  model=Sequential()\n",
        "  model.add(Conv2D(64,(3,3),strides=(2,2),padding='same',input_shape=in_shape))\n",
        "  model.add(LeakyReLU(alpha=0.2))\n",
        "  model.add(Dropout(0.4))\n",
        "  model.add(Conv2D(64,(3,3),strides=(2,2),padding='same'))\n",
        "  model.add(LeakyReLU(alpha=0.2))\n",
        "  model.add(Dropout(0.4))\n",
        "  model.add(Flatten())\n",
        "  model.add(Dense(1,activation='sigmoid'))\n",
        "  model.compile(loss='binary_crossentropy', optimizer='adam', metrics=['accuracy'])\n",
        "  return model\n"
      ],
      "metadata": {
        "id": "W11kHTuJ2bvD"
      },
      "execution_count": null,
      "outputs": []
    },
    {
      "cell_type": "code",
      "source": [
        "d_model=define_discriminator()\n",
        "\n",
        "def load_real_samples():\n",
        "  X=np.expand_dims(trainX, axis=-1)\n",
        "  X=X.astype('float32')\n",
        "  X=X/255.0\n",
        "  return X"
      ],
      "metadata": {
        "id": "EEpO78cN6YpX"
      },
      "execution_count": null,
      "outputs": []
    },
    {
      "cell_type": "code",
      "source": [
        "def generate_real_samples(dataset, n_samples):\n",
        "  ix=randint(0, dataset.shape[0],n_samples)\n",
        "  #retreieve selected images\n",
        "  X=dataset[ix]\n",
        "  #generate 'real' class labels\n",
        "  y=ones((n_samples,1))\n",
        "  return X,y"
      ],
      "metadata": {
        "id": "D6QnfKB09aka"
      },
      "execution_count": null,
      "outputs": []
    },
    {
      "cell_type": "code",
      "source": [
        "def generate_fake_samples(n_samples):\n",
        "  #generate uniform random number in [0,1]\n",
        "  X=rand(28 * 28 * n_samples)\n",
        "  X=X.reshape((n_samples,28, 28, 1))\n",
        "  #generate fake class labels (0)\n",
        "  y=np.zeros((n_samples, 1))\n",
        "  return X, y"
      ],
      "metadata": {
        "id": "zOv_ay-i-dE3"
      },
      "execution_count": null,
      "outputs": []
    },
    {
      "cell_type": "code",
      "source": [
        "def train_discriminator(model, dataset, n_iter=100, n_batch=256):\n",
        "  half_batch=int(n_batch/2)\n",
        "  for i in range(n_iter):\n",
        "    X_real, y_real=generate_real_samples(dataset, half_batch)\n",
        "    _,real_acc=model.train_on_batch(X_real, y_real)\n",
        "    X_fake,y_fake=generate_fake_samples(half_batch)\n",
        "    _, fake_acc= model.train_on_batch(X_fake,y_fake)\n",
        "    print('>%d real=%.0f%% fake=%.0f%%' % (i+1, real_acc *100,fake_acc*100))\n",
        "\n",
        "model= define_discriminator()\n",
        "model.summary()\n",
        "#plot_model(model, to_file='discriminator_plot.png', show_shapes=True, show_layer_names=)\n",
        "dataset=load_real_samples()\n",
        "train_discriminator(model, dataset)"
      ],
      "metadata": {
        "colab": {
          "base_uri": "https://localhost:8080/"
        },
        "id": "EREm_aUF-8HO",
        "outputId": "98162949-fe56-4b30-cc3d-62efbf6b3985"
      },
      "execution_count": null,
      "outputs": [
        {
          "output_type": "stream",
          "name": "stdout",
          "text": [
            "Model: \"sequential_6\"\n",
            "_________________________________________________________________\n",
            " Layer (type)                Output Shape              Param #   \n",
            "=================================================================\n",
            " conv2d_12 (Conv2D)          (None, 14, 14, 64)        640       \n",
            "                                                                 \n",
            " leaky_re_lu_12 (LeakyReLU)  (None, 14, 14, 64)        0         \n",
            "                                                                 \n",
            " dropout_12 (Dropout)        (None, 14, 14, 64)        0         \n",
            "                                                                 \n",
            " conv2d_13 (Conv2D)          (None, 7, 7, 64)          36928     \n",
            "                                                                 \n",
            " leaky_re_lu_13 (LeakyReLU)  (None, 7, 7, 64)          0         \n",
            "                                                                 \n",
            " dropout_13 (Dropout)        (None, 7, 7, 64)          0         \n",
            "                                                                 \n",
            " flatten_6 (Flatten)         (None, 3136)              0         \n",
            "                                                                 \n",
            " dense_6 (Dense)             (None, 1)                 3137      \n",
            "                                                                 \n",
            "=================================================================\n",
            "Total params: 40,705\n",
            "Trainable params: 40,705\n",
            "Non-trainable params: 0\n",
            "_________________________________________________________________\n",
            ">1 real=84% fake=0%\n",
            ">2 real=99% fake=41%\n",
            ">3 real=95% fake=98%\n",
            ">4 real=97% fake=100%\n",
            ">5 real=95% fake=100%\n",
            ">6 real=98% fake=100%\n",
            ">7 real=95% fake=100%\n",
            ">8 real=92% fake=100%\n",
            ">9 real=98% fake=100%\n",
            ">10 real=98% fake=100%\n",
            ">11 real=99% fake=100%\n",
            ">12 real=99% fake=100%\n",
            ">13 real=99% fake=100%\n",
            ">14 real=100% fake=100%\n",
            ">15 real=100% fake=100%\n",
            ">16 real=100% fake=100%\n",
            ">17 real=100% fake=100%\n",
            ">18 real=100% fake=100%\n",
            ">19 real=100% fake=100%\n",
            ">20 real=100% fake=100%\n",
            ">21 real=100% fake=100%\n",
            ">22 real=100% fake=100%\n",
            ">23 real=100% fake=100%\n",
            ">24 real=100% fake=100%\n",
            ">25 real=100% fake=100%\n",
            ">26 real=100% fake=100%\n",
            ">27 real=100% fake=100%\n",
            ">28 real=100% fake=100%\n",
            ">29 real=100% fake=100%\n",
            ">30 real=100% fake=100%\n",
            ">31 real=100% fake=100%\n",
            ">32 real=100% fake=100%\n",
            ">33 real=100% fake=100%\n",
            ">34 real=100% fake=100%\n",
            ">35 real=100% fake=100%\n",
            ">36 real=100% fake=100%\n",
            ">37 real=100% fake=100%\n",
            ">38 real=100% fake=100%\n",
            ">39 real=100% fake=100%\n",
            ">40 real=100% fake=100%\n",
            ">41 real=100% fake=100%\n",
            ">42 real=100% fake=100%\n",
            ">43 real=100% fake=100%\n",
            ">44 real=100% fake=100%\n",
            ">45 real=100% fake=100%\n",
            ">46 real=100% fake=100%\n",
            ">47 real=100% fake=100%\n",
            ">48 real=100% fake=100%\n",
            ">49 real=100% fake=100%\n",
            ">50 real=100% fake=100%\n",
            ">51 real=100% fake=100%\n",
            ">52 real=100% fake=100%\n",
            ">53 real=100% fake=100%\n",
            ">54 real=100% fake=100%\n",
            ">55 real=100% fake=100%\n",
            ">56 real=100% fake=100%\n",
            ">57 real=100% fake=100%\n",
            ">58 real=100% fake=100%\n",
            ">59 real=100% fake=100%\n",
            ">60 real=100% fake=100%\n",
            ">61 real=100% fake=100%\n",
            ">62 real=100% fake=100%\n",
            ">63 real=100% fake=100%\n",
            ">64 real=100% fake=100%\n",
            ">65 real=100% fake=100%\n",
            ">66 real=100% fake=100%\n",
            ">67 real=100% fake=100%\n",
            ">68 real=100% fake=100%\n",
            ">69 real=100% fake=100%\n",
            ">70 real=100% fake=100%\n",
            ">71 real=100% fake=100%\n",
            ">72 real=100% fake=100%\n",
            ">73 real=100% fake=100%\n",
            ">74 real=100% fake=100%\n",
            ">75 real=100% fake=100%\n",
            ">76 real=100% fake=100%\n",
            ">77 real=100% fake=100%\n",
            ">78 real=100% fake=100%\n",
            ">79 real=100% fake=100%\n",
            ">80 real=100% fake=100%\n",
            ">81 real=100% fake=100%\n",
            ">82 real=100% fake=100%\n",
            ">83 real=100% fake=100%\n",
            ">84 real=100% fake=100%\n",
            ">85 real=100% fake=100%\n",
            ">86 real=100% fake=100%\n",
            ">87 real=100% fake=100%\n",
            ">88 real=100% fake=100%\n",
            ">89 real=100% fake=100%\n",
            ">90 real=100% fake=100%\n",
            ">91 real=100% fake=100%\n",
            ">92 real=100% fake=100%\n",
            ">93 real=100% fake=100%\n",
            ">94 real=100% fake=100%\n",
            ">95 real=100% fake=100%\n",
            ">96 real=100% fake=100%\n",
            ">97 real=100% fake=100%\n",
            ">98 real=100% fake=100%\n",
            ">99 real=100% fake=100%\n",
            ">100 real=100% fake=100%\n"
          ]
        }
      ]
    },
    {
      "cell_type": "code",
      "source": [],
      "metadata": {
        "id": "1ocUZ2zLC2Y0"
      },
      "execution_count": null,
      "outputs": []
    }
  ]
}